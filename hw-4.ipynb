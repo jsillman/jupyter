{
 "cells": [
  {
   "cell_type": "code",
   "execution_count": null,
   "metadata": {},
   "outputs": [],
   "source": [
    "%matplotlib inline\n",
    "import numpy as np\n",
    "import matplotlib.pyplot as plt"
   ]
  },
  {
   "cell_type": "code",
   "execution_count": null,
   "metadata": {},
   "outputs": [],
   "source": [
    "def function(x):\n",
    "    f = np.e**(-2*x)*np.cos(10*x)\n",
    "    return f"
   ]
  },
  {
   "cell_type": "code",
   "execution_count": null,
   "metadata": {},
   "outputs": [],
   "source": [
    "def integral(x):\n",
    "    I = (1./52.)*(np.e^(-2*x)*(5*np.sin(10*x)-cos(10*x)))\n",
    "    return I"
   ]
  },
  {
   "cell_type": "code",
   "execution_count": null,
   "metadata": {},
   "outputs": [],
   "source": [
    "#TRAPEZOID\n",
    "def trapezoid(f,a,b,N):\n",
    "    x = np.linspace(a,b,N)\n",
    "    h = x[1]-x[0]\n",
    "    Fint = 0.0\n",
    "    \n",
    "    for i in range(0,len(x)-1,1):\n",
    "        Fint += 0.5*h*(f(x[i]+h)+f(x[i]))    #add up the trapezoids\n",
    "    \n",
    "    return Fint"
   ]
  },
  {
   "cell_type": "code",
   "execution_count": null,
   "metadata": {},
   "outputs": [],
   "source": [
    "#SIMPSONS\n",
    "def simpsons(f,a,b,N):\n",
    "    x = np.linspace(a,b,N)\n",
    "    h = x[1]-x[0]\n",
    "    Fint = 0.0\n",
    "    \n",
    "    for i in range(0,len(x)-2,2):\n",
    "        Fint += h*(f(x[i]) + 4*f(x[i]+h) + f(x[i]+2*h))/3.   #perform Simpsons method\n",
    "    \n",
    "    if(N%2==0):\n",
    "        Fint += 0.5*h*(f(x[-2]) + 4*f(x[-2]+0.5*h) + f(x[-2]+h))/3.   #adjust last chunk if N is even\n",
    "    \n",
    "    return Fint"
   ]
  },
  {
   "cell_type": "code",
   "execution_count": null,
   "metadata": {},
   "outputs": [],
   "source": [
    "#ROMBERG\n",
    "def romberg(f,a,b,tol):\n",
    "    i = 0\n",
    "    imax = 1000\n",
    "    delta = 100.0*np.fabs(tol)      #error estimate\n",
    "    I = np.zeros(imax,dtype=float)\n",
    "    I[0] = 0.5*(b-a)*(f(a)+f(b))\n",
    "    i += 1\n",
    "    \n",
    "    while(delta>tol):\n",
    "        h = b-a\n",
    "        dh = h/2.0**(i)    #increment between new function values\n",
    "        K = h/2.0**(i+1)   #cofactor\n",
    "        M = 0.0\n",
    "        for j in range(2**i):\n",
    "            M += f(a + 0.5*dh + j*dh)\n",
    "        I[i] = 0.5*I[i-1] + K*M                #find current romberg iteration\n",
    "        delta = np.fabs((I[i]-I[i-1])/I[i])    #compute new fractional error estimate\n",
    "        print(i,I[i],I[i-1],delta)\n",
    "        \n",
    "        if(delta>tol):\n",
    "            i+=1\n",
    "            if(i>imax):\n",
    "                print(\"Max iterations reached.\")\n",
    "                raise StopIteration('Stopping iterations after ',i)\n",
    "    \n",
    "    return I[i]"
   ]
  },
  {
   "cell_type": "code",
   "execution_count": null,
   "metadata": {},
   "outputs": [],
   "source": []
  }
 ],
 "metadata": {
  "kernelspec": {
   "display_name": "Python 3",
   "language": "python",
   "name": "python3"
  },
  "language_info": {
   "codemirror_mode": {
    "name": "ipython",
    "version": 3
   },
   "file_extension": ".py",
   "mimetype": "text/x-python",
   "name": "python",
   "nbconvert_exporter": "python",
   "pygments_lexer": "ipython3",
   "version": "3.6.5"
  }
 },
 "nbformat": 4,
 "nbformat_minor": 2
}
