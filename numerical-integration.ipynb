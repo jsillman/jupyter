{
 "cells": [
  {
   "cell_type": "code",
   "execution_count": 11,
   "metadata": {},
   "outputs": [],
   "source": [
    "%matplotlib inline\n",
    "import numpy as np\n",
    "import matplotlib.pyplot as plt"
   ]
  },
  {
   "cell_type": "code",
   "execution_count": 12,
   "metadata": {},
   "outputs": [],
   "source": [
    "def function(x):\n",
    "    a = 1.01\n",
    "    b = -3.04\n",
    "    c = 2.07\n",
    "    return a*x**2 + b*x + c"
   ]
  },
  {
   "cell_type": "code",
   "execution_count": 13,
   "metadata": {},
   "outputs": [],
   "source": [
    "def f_integral(x):\n",
    "    a = 1.01\n",
    "    b = -3.04\n",
    "    c = 2.07\n",
    "    return (a*x**3)/3. + (b*x**2)/2. + c*x"
   ]
  },
  {
   "cell_type": "code",
   "execution_count": 14,
   "metadata": {},
   "outputs": [],
   "source": [
    "def trapezoid_core(f,x,h):\n",
    "    return 0.5*h*(f(x+h) + f(x))"
   ]
  },
  {
   "cell_type": "code",
   "execution_count": 15,
   "metadata": {},
   "outputs": [],
   "source": [
    "def trapezoid_method(f,a,b,N):\n",
    "    #f = function to integrate\n",
    "    #a = lower limit of integration\n",
    "    #b = upper limit of integration\n",
    "    #N = number of function evaluations to use\n",
    "    \n",
    "    x = np.linspace(a,b,N)\n",
    "    h = x[1]-x[0]\n",
    "    Fint = 0.0\n",
    "    \n",
    "    for i in range(0,len(x)-1,1):\n",
    "        Fint += trapezoid_core(f,x[i],h)\n",
    "    \n",
    "    return Fint"
   ]
  },
  {
   "cell_type": "code",
   "execution_count": 16,
   "metadata": {},
   "outputs": [],
   "source": [
    "def simpson_core(f,x,h):\n",
    "    return h*(f(x) + 4*f(x+h) + f(x+2*h))/3.0"
   ]
  },
  {
   "cell_type": "code",
   "execution_count": 17,
   "metadata": {},
   "outputs": [],
   "source": [
    "def simpsons_method(f,a,b,N):\n",
    "    x = np.linspace(a,b,N)\n",
    "    h = x[1]-x[0]\n",
    "    Fint = 0.0\n",
    "    \n",
    "    for i in range(0,len(x)-2,2):\n",
    "        Fint += simpson_core(f,x[i],h)\n",
    "        print(i,i+2,x[i],x[i]+h,x[i]+2*h,x[-2],x[-1])\n",
    "    \n",
    "    #if N is even, we need to adjust the last interval\n",
    "    if(N%2==0):\n",
    "        Fint += simpson_core(f,x[-2],0.5*h)\n",
    "    \n",
    "    return Fint"
   ]
  },
  {
   "cell_type": "code",
   "execution_count": 18,
   "metadata": {},
   "outputs": [],
   "source": [
    "def romberg_core(f,a,b,i):\n",
    "    h = b-a\n",
    "    dh = h/2.0**(i)    #increment between new function values\n",
    "    K = h/2.0**(i+1)   #cofactor\n",
    "    M = 0.0\n",
    "    for j in range(2**i):\n",
    "        M += f(a + 0.5*dh + j*dh)\n",
    "    return K*M"
   ]
  },
  {
   "cell_type": "code",
   "execution_count": 19,
   "metadata": {},
   "outputs": [],
   "source": [
    "def romberg_integration(f,a,b,tol):\n",
    "    i = 0\n",
    "    imax = 1000\n",
    "    delta = 100.0*np.fabs(tol)    #error estimate\n",
    "    I = np.zeros(imax,dtype=float)\n",
    "    I[0] = 0.5*(b-a)*(f(a)+f(b))\n",
    "    i += 1\n",
    "    \n",
    "    while(delta>tol):\n",
    "        I[i] = 0.5*I[i-1] + romberg_core(f,a,b,i) #find current romberg iteration\n",
    "        delta = np.fabs((I[i]-I[i-1])/I[i])         #compute new fractional error estimate\n",
    "        print(i,I[i],I[i-1],delta)\n",
    "        \n",
    "        if(delta>tol):\n",
    "            i+=1\n",
    "            if(i>imax):\n",
    "                print(\"Max iterations reached.\")\n",
    "                raise StopIteration('Stopping iterations after ',i)\n",
    "    \n",
    "    return I[i]"
   ]
  },
  {
   "cell_type": "code",
   "execution_count": 20,
   "metadata": {},
   "outputs": [
    {
     "name": "stdout",
     "output_type": "stream",
     "text": [
      "0.8866666666666665\n",
      "Trapezoid\n",
      "0.888744855967078\n",
      "Simpson's Method\n",
      "0 2 0.0 0.1111111111111111 0.2222222222222222 0.8888888888888888 1.0\n",
      "2 4 0.2222222222222222 0.3333333333333333 0.4444444444444444 0.8888888888888888 1.0\n",
      "4 6 0.4444444444444444 0.5555555555555556 0.6666666666666666 0.8888888888888888 1.0\n",
      "6 8 0.6666666666666666 0.7777777777777777 0.8888888888888888 0.8888888888888888 1.0\n",
      "0.8866666666666665\n",
      "Romberg\n",
      "1 0.9603124999999997 1.0549999999999997 0.09860071591278888\n",
      "2 0.9208593749999998 0.9603124999999997 0.04284381097819618\n",
      "3 0.9031054687499998 0.9208593749999998 0.01965872964380725\n",
      "4 0.8947216796874997 0.9031054687499998 0.009370275978367093\n",
      "5 0.8906530761718747 0.8947216796874997 0.004568112573205605\n",
      "6 0.8886495971679687 0.8906530761718747 0.0022545208035776375\n",
      "7 0.8876555633544922 0.8886495971679687 0.0011198418108482326\n",
      "8 0.8871604728698727 0.8876555633544922 0.000558061928771501\n",
      "9 0.8869134092330915 0.8871604728698727 0.0002785656798162625\n",
      "10 0.8867899978160845 0.8869134092330915 0.00013916645125782877\n",
      "11 0.8867283222079236 0.8867899978160845 6.955412003449725e-05\n",
      "0.8867283222079236 6.953632472610228e-05 0.0001\n"
     ]
    }
   ],
   "source": [
    "answer = f_integral(1)-f_integral(0)\n",
    "print(answer)\n",
    "print(\"Trapezoid\")\n",
    "print(trapezoid_method(function,0,1,10))\n",
    "print(\"Simpson's Method\")\n",
    "print(simpsons_method(function,0,1,10))\n",
    "print(\"Romberg\")\n",
    "tolerance = 1.0e-4\n",
    "ri = romberg_integration(function,0,1,tolerance)\n",
    "print(ri,(ri-answer)/answer,tolerance)"
   ]
  },
  {
   "cell_type": "code",
   "execution_count": null,
   "metadata": {},
   "outputs": [],
   "source": []
  }
 ],
 "metadata": {
  "kernelspec": {
   "display_name": "Python 3",
   "language": "python",
   "name": "python3"
  },
  "language_info": {
   "codemirror_mode": {
    "name": "ipython",
    "version": 3
   },
   "file_extension": ".py",
   "mimetype": "text/x-python",
   "name": "python",
   "nbconvert_exporter": "python",
   "pygments_lexer": "ipython3",
   "version": "3.6.5"
  }
 },
 "nbformat": 4,
 "nbformat_minor": 2
}
