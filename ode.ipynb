{
 "cells": [
  {
   "cell_type": "code",
   "execution_count": 1,
   "metadata": {},
   "outputs": [],
   "source": [
    "%matplotlib inline\n",
    "import matplotlib.pyplot as plt\n",
    "import numpy as np"
   ]
  },
  {
   "cell_type": "code",
   "execution_count": 4,
   "metadata": {},
   "outputs": [],
   "source": [
    "def function(x,f):\n",
    "    return x**2 + x"
   ]
  },
  {
   "cell_type": "code",
   "execution_count": 5,
   "metadata": {},
   "outputs": [],
   "source": [
    "def f_int(x,C):\n",
    "    return (x**3)/3. + 0.5*x**2 + C"
   ]
  },
  {
   "cell_type": "code",
   "execution_count": 7,
   "metadata": {},
   "outputs": [],
   "source": [
    "#2nd ORDER RUNGE KUTTA METHOD\n",
    "def rk2_core(x_i,f_i,h,g):\n",
    "    #advance f by a step h\n",
    "    \n",
    "    #half step  (x_ipoh = x_i plus one half)\n",
    "    x_ipoh = x_i + 0.5*h\n",
    "    f_ipoh = f_i + 0.5*h*g(x_i,f_i)\n",
    "    #full step\n",
    "    f_ipo = f_i + h*g(x_ipoh,f_ipoh)\n",
    "    \n",
    "    return f_ipo"
   ]
  },
  {
   "cell_type": "code",
   "execution_count": 8,
   "metadata": {},
   "outputs": [],
   "source": [
    "#WRAPPER\n",
    "def rk2(dfdx,a,b,f_a,N):\n",
    "    #dfdx is the derivative wrt x\n",
    "    #a, b = lower and upper bounds\n",
    "    #f_a is the boundary condition at a\n",
    "    #N is the number of steps\n",
    "    \n",
    "    x = np.linspace(a,b,N)      #steps\n",
    "    h = x[1]-x[0]               #step size\n",
    "    f = np.zeros(N,dtype=float) #array to hold f\n",
    "    f[0] = f_a                  #value of f at a\n",
    "    \n",
    "    for i in range(1,N):\n",
    "        f[i] = rk2_core(x[i-1],f[i-1],h,dfdx)\n",
    "    \n",
    "    return x,f"
   ]
  },
  {
   "cell_type": "code",
   "execution_count": 9,
   "metadata": {},
   "outputs": [],
   "source": [
    "#4th ORDER RUNGE KUTTA METHOD\n",
    "def rk4_core(x_i,f_i,h,g):\n",
    "    x_ipoh = x_i + 0.5*h      #define x at 1/2 step\n",
    "    x_ipo = x_i + h           #define x at 1 step\n",
    "    \n",
    "    #advance f by a step h\n",
    "    k_1 = h*g(x_i,f_i)\n",
    "    k_2 = h*g(x_ipoh,f_i+0.5*k_1)\n",
    "    k_3 = h*g(x_ipoh,f_i+0.5*k_2)\n",
    "    k_4 = h*g(x_ipo,f_i+k_3)\n",
    "    \n",
    "    f_ipo = f_i + (k_1 + 2*k_2 + 2*k_3 + k_4)/6.\n",
    "    \n",
    "    return f_ipo"
   ]
  },
  {
   "cell_type": "code",
   "execution_count": 10,
   "metadata": {},
   "outputs": [],
   "source": [
    "#WRAPPER\n",
    "def rk4(dfdx,a,b,f_a,N):\n",
    "    #see parameter explanation in rk2 wrapper\n",
    "    \n",
    "    x = np.linspace(a,b,N)\n",
    "    h = x[1]-x[0]\n",
    "    f = np.zeros(N,dtype=float)\n",
    "    f[0] = f_a\n",
    "    \n",
    "    for i in range(1,N):\n",
    "        f[i] = rk4_core(x[i-1],f[i-1],h,dfdx)\n",
    "    \n",
    "    return x,f"
   ]
  },
  {
   "cell_type": "code",
   "execution_count": 13,
   "metadata": {},
   "outputs": [
    {
     "data": {
      "text/plain": [
       "Text(0, 0.5, 'f(x)')"
      ]
     },
     "execution_count": 13,
     "metadata": {},
     "output_type": "execute_result"
    },
    {
     "data": {
      "image/png": "[encoded data removed]",
      "text/plain": [
       "<Figure size 504x504 with 1 Axes>"
      ]
     },
     "metadata": {
      "needs_background": "light"
     },
     "output_type": "display_data"
    }
   ],
   "source": [
    "#NOW, TO THE ACTION\n",
    "a = 0.0\n",
    "b = 1.0\n",
    "f_a = 0.0\n",
    "N = 10\n",
    "x_2, f_2 = rk2(function,a,b,f_a,N)\n",
    "x_4, f_4 = rk4(function,a,b,f_a,N)\n",
    "x = x_2.copy()\n",
    "fig = plt.figure(figsize=(7,7))\n",
    "plt.plot(x_2,f_2,label='RK2')\n",
    "plt.plot(x_4,f_4,label='RK4')\n",
    "plt.plot(x,f_int(x,f_a),'o',label='Analytic')\n",
    "plt.legend(frameon=False)\n",
    "plt.xlim(0,1)\n",
    "plt.xlabel('x')\n",
    "plt.ylabel('f(x)')"
   ]
  },
  {
   "cell_type": "code",
   "execution_count": null,
   "metadata": {},
   "outputs": [],
   "source": []
  }
 ],
 "metadata": {
  "kernelspec": {
   "display_name": "Python 3",
   "language": "python",
   "name": "python3"
  },
  "language_info": {
   "codemirror_mode": {
    "name": "ipython",
    "version": 3
   },
   "file_extension": ".py",
   "mimetype": "text/x-python",
   "name": "python",
   "nbconvert_exporter": "python",
   "pygments_lexer": "ipython3",
   "version": "3.6.5"
  }
 },
 "nbformat": 4,
 "nbformat_minor": 2
}
