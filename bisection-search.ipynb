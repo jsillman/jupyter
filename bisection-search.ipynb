{
 "cells": [
  {
   "cell_type": "code",
   "execution_count": null,
   "metadata": {},
   "outputs": [],
   "source": [
    "%matplotlib inline\n",
    "import numpy as np\n",
    "import matplotlib.pyplot as plt\n",
    "\n",
    "def function_for_roots(x):\n",
    "    a = 1.01\n",
    "    b = -3.04\n",
    "    c = 2.07\n",
    "    return a*x**2 + b*x + c   #for getting roots of ax^2 + bx + c\n",
    "\n",
    "def check_initial_values(f, x_min, x_max, tol):\n",
    "    #check our initial guesses\n",
    "    y_min = f(x_min)\n",
    "    y_max = f(x_max)\n",
    "    \n",
    "    #check that x_min and x_max contain a zero crossing\n",
    "    if(y_min*y_max>0.0):\n",
    "        print(\"No zero crossing found in the range = \",x_min,x_max)\n",
    "        s = \"f(%f) = %f, f(%f) = %f\" %(x_min,y_min,x_max,y_max)\n",
    "        print(s)\n",
    "        return 0\n",
    "    \n",
    "    #if x_min is a root, then return 1\n",
    "    if(np.fabs(y_min)<tol):\n",
    "        return 1\n",
    "    #if x_max is a root, then return 2\n",
    "    if(np.fabs(y_max)<tol):\n",
    "        return 2\n",
    "    #otherwise, the bracket is valid - return 3\n",
    "    return 3\n",
    "\n",
    "def bisection_root_finding(f,x_min_start,x_max_start,tol):\n",
    "    #this function uses bisection search to find a root\n",
    "    x_min = x_min_start      #minimum x in bracket\n",
    "    x_max = x_max_start      #maximum x in bracket\n",
    "    x_mid = 0.0              #midpoint var initialized\n",
    "    \n",
    "    y_min = f(x_min)      #function value at x_min\n",
    "    y_max = f(x_max)      #function value at x_max\n",
    "    y_mid = 0.0           #function value at the x midpoint var initialized\n",
    "    \n",
    "    imax = 10000             #set a max number of iterations\n",
    "    i = 0                    #iteration counter\n",
    "    \n",
    "    #check the initial values\n",
    "    flag = check_initial_values(f,x_min,x_max,tol)\n",
    "    if(flag==0):\n",
    "        print(\"Error in bisection_root_finding().\")\n",
    "        raise ValueError('Initial values invalid',x_min,x_max)\n",
    "    elif(flag==1):\n",
    "        return x_min\n",
    "    elif(flag==2):\n",
    "        return x_max\n",
    "    \n",
    "    #time to conduct the search"
   ]
  }
 ],
 "metadata": {
  "kernelspec": {
   "display_name": "Python 3",
   "language": "python",
   "name": "python3"
  },
  "language_info": {
   "codemirror_mode": {
    "name": "ipython",
    "version": 3
   },
   "file_extension": ".py",
   "mimetype": "text/x-python",
   "name": "python",
   "nbconvert_exporter": "python",
   "pygments_lexer": "ipython3",
   "version": "3.6.5"
  }
 },
 "nbformat": 4,
 "nbformat_minor": 2
}
